{
 "cells": [
  {
   "cell_type": "code",
   "execution_count": null,
   "id": "5f0abb01-444c-4e35-961e-212d727fd9c5",
   "metadata": {},
   "outputs": [],
   "source": []
  }
 ],
 "metadata": {
  "kernelspec": {
   "display_name": "",
   "name": ""
  },
  "language_info": {
   "name": ""
  }
 },
 "nbformat": 4,
 "nbformat_minor": 5
}
