{
 "cells": [
  {
   "cell_type": "code",
   "execution_count": 2,
   "id": "1f2fde5a-17ee-44e7-b1e6-01a31585cf2e",
   "metadata": {},
   "outputs": [
    {
     "name": "stdout",
     "output_type": "stream",
     "text": [
      "Welcome to Hangman!\n",
      "\n",
      "           -----\n",
      "           |   |\n",
      "               |\n",
      "               |\n",
      "               |\n",
      "              -----\n",
      "        \n",
      "\n",
      "Word:  _ _ _ _ _ _ _ _\n",
      "Guessed letters: \n",
      "Remaining tries: 6\n"
     ]
    },
    {
     "name": "stdin",
     "output_type": "stream",
     "text": [
      "Guess a letter:  s\n"
     ]
    },
    {
     "name": "stdout",
     "output_type": "stream",
     "text": [
      "Wrong guess. 'S' is not in the word.\n",
      "\n",
      "           -----\n",
      "           |   |\n",
      "           O   |\n",
      "               |\n",
      "               |\n",
      "              -----\n",
      "        \n",
      "\n",
      "Word:  _ _ _ _ _ _ _ _\n",
      "Guessed letters: S\n",
      "Remaining tries: 5\n"
     ]
    },
    {
     "name": "stdin",
     "output_type": "stream",
     "text": [
      "Guess a letter:  a\n"
     ]
    },
    {
     "name": "stdout",
     "output_type": "stream",
     "text": [
      "Wrong guess. 'A' is not in the word.\n",
      "\n",
      "           -----\n",
      "           |   |\n",
      "           O   |\n",
      "           |   |\n",
      "               |\n",
      "              -----\n",
      "        \n",
      "\n",
      "Word:  _ _ _ _ _ _ _ _\n",
      "Guessed letters: A S\n",
      "Remaining tries: 4\n"
     ]
    },
    {
     "name": "stdin",
     "output_type": "stream",
     "text": [
      "Guess a letter:  e\n"
     ]
    },
    {
     "name": "stdout",
     "output_type": "stream",
     "text": [
      "Good job! 'E' is in the word.\n",
      "\n",
      "Word:  _ _ _ _ _ _ E _\n",
      "Guessed letters: A E S\n",
      "Remaining tries: 4\n"
     ]
    },
    {
     "name": "stdin",
     "output_type": "stream",
     "text": [
      "Guess a letter:  t\n"
     ]
    },
    {
     "name": "stdout",
     "output_type": "stream",
     "text": [
      "Good job! 'T' is in the word.\n",
      "\n",
      "Word:  _ _ _ _ _ T E _\n",
      "Guessed letters: A E S T\n",
      "Remaining tries: 4\n"
     ]
    },
    {
     "name": "stdin",
     "output_type": "stream",
     "text": [
      "Guess a letter:  r\n"
     ]
    },
    {
     "name": "stdout",
     "output_type": "stream",
     "text": [
      "Good job! 'R' is in the word.\n",
      "\n",
      "Word:  _ _ _ _ _ T E R\n",
      "Guessed letters: A E R S T\n",
      "Remaining tries: 4\n"
     ]
    },
    {
     "name": "stdin",
     "output_type": "stream",
     "text": [
      "Guess a letter:  g\n"
     ]
    },
    {
     "name": "stdout",
     "output_type": "stream",
     "text": [
      "Wrong guess. 'G' is not in the word.\n",
      "\n",
      "           -----\n",
      "           |   |\n",
      "           O   |\n",
      "          /|   |\n",
      "               |\n",
      "              -----\n",
      "        \n",
      "\n",
      "Word:  _ _ _ _ _ T E R\n",
      "Guessed letters: A E G R S T\n",
      "Remaining tries: 3\n"
     ]
    },
    {
     "name": "stdin",
     "output_type": "stream",
     "text": [
      "Guess a letter:  p\n"
     ]
    },
    {
     "name": "stdout",
     "output_type": "stream",
     "text": [
      "Good job! 'P' is in the word.\n",
      "\n",
      "Word:  _ _ _ P _ T E R\n",
      "Guessed letters: A E G P R S T\n",
      "Remaining tries: 3\n"
     ]
    },
    {
     "name": "stdin",
     "output_type": "stream",
     "text": [
      "Guess a letter:  c\n"
     ]
    },
    {
     "name": "stdout",
     "output_type": "stream",
     "text": [
      "Good job! 'C' is in the word.\n",
      "\n",
      "Word:  C _ _ P _ T E R\n",
      "Guessed letters: A C E G P R S T\n",
      "Remaining tries: 3\n"
     ]
    },
    {
     "name": "stdin",
     "output_type": "stream",
     "text": [
      "Guess a letter:  h\n"
     ]
    },
    {
     "name": "stdout",
     "output_type": "stream",
     "text": [
      "Wrong guess. 'H' is not in the word.\n",
      "\n",
      "           -----\n",
      "           |   |\n",
      "           O   |\n",
      "          /|\\  |\n",
      "               |\n",
      "              -----\n",
      "        \n",
      "\n",
      "Word:  C _ _ P _ T E R\n",
      "Guessed letters: A C E G H P R S T\n",
      "Remaining tries: 2\n"
     ]
    },
    {
     "name": "stdin",
     "output_type": "stream",
     "text": [
      "Guess a letter:  o\n"
     ]
    },
    {
     "name": "stdout",
     "output_type": "stream",
     "text": [
      "Good job! 'O' is in the word.\n",
      "\n",
      "Word:  C O _ P _ T E R\n",
      "Guessed letters: A C E G H O P R S T\n",
      "Remaining tries: 2\n"
     ]
    },
    {
     "name": "stdin",
     "output_type": "stream",
     "text": [
      "Guess a letter:  m\n"
     ]
    },
    {
     "name": "stdout",
     "output_type": "stream",
     "text": [
      "Good job! 'M' is in the word.\n",
      "\n",
      "Word:  C O M P _ T E R\n",
      "Guessed letters: A C E G H M O P R S T\n",
      "Remaining tries: 2\n"
     ]
    },
    {
     "name": "stdin",
     "output_type": "stream",
     "text": [
      "Guess a letter:  u\n"
     ]
    },
    {
     "name": "stdout",
     "output_type": "stream",
     "text": [
      "Good job! 'U' is in the word.\n",
      "\n",
      "Congratulations! You guessed the word: COMPUTER\n"
     ]
    }
   ],
   "source": [
    "import random\n",
    "\n",
    "def display_hangman(tries):\n",
    "    \"\"\"Display the hangman stages based on remaining tries.\"\"\"\n",
    "    stages = [\n",
    "        \"\"\"\n",
    "           -----\n",
    "           |   |\n",
    "           O   |\n",
    "          /|\\\\  |\n",
    "          / \\\\  |\n",
    "              -----\n",
    "        \"\"\",  # Final state: head, torso, both arms, and both legs\n",
    "        \"\"\"\n",
    "           -----\n",
    "           |   |\n",
    "           O   |\n",
    "          /|\\\\  |\n",
    "          /    |\n",
    "              -----\n",
    "        \"\"\",  # Head, torso, both arms, and one leg\n",
    "        \"\"\"\n",
    "           -----\n",
    "           |   |\n",
    "           O   |\n",
    "          /|\\\\  |\n",
    "               |\n",
    "              -----\n",
    "        \"\"\",  # Head, torso, and both arms\n",
    "        \"\"\"\n",
    "           -----\n",
    "           |   |\n",
    "           O   |\n",
    "          /|   |\n",
    "               |\n",
    "              -----\n",
    "        \"\"\",  # Head, torso, and one arm\n",
    "        \"\"\"\n",
    "           -----\n",
    "           |   |\n",
    "           O   |\n",
    "           |   |\n",
    "               |\n",
    "              -----\n",
    "        \"\"\",  # Head and torso\n",
    "        \"\"\"\n",
    "           -----\n",
    "           |   |\n",
    "           O   |\n",
    "               |\n",
    "               |\n",
    "              -----\n",
    "        \"\"\",  # Head only\n",
    "        \"\"\"\n",
    "           -----\n",
    "           |   |\n",
    "               |\n",
    "               |\n",
    "               |\n",
    "              -----\n",
    "        \"\"\"   # Initial empty state\n",
    "    ]\n",
    "    return stages[tries]\n",
    "\n",
    "def choose_word():\n",
    "    \"\"\"Choose a random word from a predefined list.\"\"\"\n",
    "    word_list = [\"python\", \"hangman\", \"programming\", \"developer\", \"computer\", \"science\"]\n",
    "    return random.choice(word_list).upper()\n",
    "\n",
    "def hangman():\n",
    "    \"\"\"Main function to run the hangman game.\"\"\"\n",
    "    word = choose_word()\n",
    "    word_letters = set(word)  # Unique letters in the chosen word\n",
    "    guessed_letters = set()  # Letters guessed by the player\n",
    "    remaining_tries = 6\n",
    "\n",
    "    print(\"Welcome to Hangman!\")\n",
    "    print(display_hangman(remaining_tries))\n",
    "\n",
    "    # Game loop\n",
    "    while remaining_tries > 0 and word_letters:\n",
    "        print(\"\\nWord: \", \" \".join([letter if letter in guessed_letters else \"_\" for letter in word]))\n",
    "        print(f\"Guessed letters: {' '.join(sorted(guessed_letters))}\")\n",
    "        print(f\"Remaining tries: {remaining_tries}\")\n",
    "\n",
    "        guess = input(\"Guess a letter: \").upper()\n",
    "\n",
    "        if len(guess) != 1 or not guess.isalpha():\n",
    "            print(\"Invalid input. Please guess a single letter.\")\n",
    "            continue\n",
    "\n",
    "        if guess in guessed_letters:\n",
    "            print(f\"You already guessed '{guess}'. Try a different letter.\")\n",
    "        elif guess in word_letters:\n",
    "            guessed_letters.add(guess)\n",
    "            word_letters.remove(guess)\n",
    "            print(f\"Good job! '{guess}' is in the word.\")\n",
    "        else:\n",
    "            guessed_letters.add(guess)\n",
    "            remaining_tries -= 1\n",
    "            print(f\"Wrong guess. '{guess}' is not in the word.\")\n",
    "            print(display_hangman(remaining_tries))\n",
    "\n",
    "    # Game over\n",
    "    if not word_letters:\n",
    "        print(f\"\\nCongratulations! You guessed the word: {word}\")\n",
    "    else:\n",
    "        print(f\"\\nGame Over. The word was: {word}\")\n",
    "\n",
    "# Run the game\n",
    "hangman()"
   ]
  },
  {
   "cell_type": "code",
   "execution_count": null,
   "id": "9b913795-89be-4a03-b154-934e8445c4a3",
   "metadata": {},
   "outputs": [],
   "source": []
  }
 ],
 "metadata": {
  "kernelspec": {
   "display_name": "Python [conda env:base] *",
   "language": "python",
   "name": "conda-base-py"
  },
  "language_info": {
   "codemirror_mode": {
    "name": "ipython",
    "version": 3
   },
   "file_extension": ".py",
   "mimetype": "text/x-python",
   "name": "python",
   "nbconvert_exporter": "python",
   "pygments_lexer": "ipython3",
   "version": "3.12.7"
  }
 },
 "nbformat": 4,
 "nbformat_minor": 5
}
