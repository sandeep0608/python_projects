{
 "cells": [
  {
   "cell_type": "code",
   "execution_count": null,
   "id": "8d096132-738b-4d49-8b01-56937b4f39a0",
   "metadata": {},
   "outputs": [],
   "source": []
  }
 ],
 "metadata": {
  "kernelspec": {
   "display_name": "",
   "name": ""
  },
  "language_info": {
   "name": ""
  }
 },
 "nbformat": 4,
 "nbformat_minor": 5
}
