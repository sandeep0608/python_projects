{
 "cells": [
  {
   "cell_type": "code",
   "execution_count": null,
   "id": "caf617de-ee63-41e2-915a-5eda4051b8ad",
   "metadata": {},
   "outputs": [],
   "source": []
  }
 ],
 "metadata": {
  "kernelspec": {
   "display_name": "",
   "name": ""
  },
  "language_info": {
   "name": ""
  }
 },
 "nbformat": 4,
 "nbformat_minor": 5
}
