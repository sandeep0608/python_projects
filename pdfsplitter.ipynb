{
 "cells": [
  {
   "cell_type": "code",
   "execution_count": 2,
   "id": "187e3b07-7946-4109-9385-17f92a4c1ad4",
   "metadata": {},
   "outputs": [
    {
     "name": "stdout",
     "output_type": "stream",
     "text": [
      "Collecting PyPDF2\n",
      "  Downloading pypdf2-3.0.1-py3-none-any.whl.metadata (6.8 kB)\n",
      "Downloading pypdf2-3.0.1-py3-none-any.whl (232 kB)\n",
      "Installing collected packages: PyPDF2\n",
      "Successfully installed PyPDF2-3.0.1\n",
      "Note: you may need to restart the kernel to use updated packages.\n"
     ]
    }
   ],
   "source": [
    "pip install PyPDF2"
   ]
  },
  {
   "cell_type": "code",
   "execution_count": 4,
   "id": "d2457a47-0dab-4fa3-9120-b361466aed95",
   "metadata": {},
   "outputs": [
    {
     "name": "stdout",
     "output_type": "stream",
     "text": [
      "PDF has been split into individual pages!\n"
     ]
    }
   ],
   "source": [
    "from PyPDF2 import PdfReader, PdfWriter\n",
    "\n",
    "# Open the PDF file\n",
    "input_pdf = PdfReader(open(\"FCVIP.pdf\", \"rb\"))\n",
    "\n",
    "# Loop through each page and save it as a separate PDF\n",
    "for i in range(len(input_pdf.pages)):\n",
    "    output = PdfWriter()\n",
    "    output.add_page(input_pdf.pages[i])\n",
    "    with open(f\"page_{i + 1}.pdf\", \"wb\") as output_stream:\n",
    "        output.write(output_stream)\n",
    "\n",
    "print(\"PDF has been split into individual pages!\")"
   ]
  },
  {
   "cell_type": "code",
   "execution_count": null,
   "id": "4629e7d1-41bb-477a-9dfd-2d701835569d",
   "metadata": {},
   "outputs": [],
   "source": []
  }
 ],
 "metadata": {
  "kernelspec": {
   "display_name": "Python [conda env:base] *",
   "language": "python",
   "name": "conda-base-py"
  },
  "language_info": {
   "codemirror_mode": {
    "name": "ipython",
    "version": 3
   },
   "file_extension": ".py",
   "mimetype": "text/x-python",
   "name": "python",
   "nbconvert_exporter": "python",
   "pygments_lexer": "ipython3",
   "version": "3.12.7"
  }
 },
 "nbformat": 4,
 "nbformat_minor": 5
}
