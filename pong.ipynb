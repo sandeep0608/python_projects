{
 "cells": [
  {
   "cell_type": "code",
   "execution_count": 2,
   "id": "81b2a61d-07f3-47ff-82bd-e9725c6a4a63",
   "metadata": {},
   "outputs": [
    {
     "name": "stdout",
     "output_type": "stream",
     "text": [
      "pygame 2.6.1 (SDL 2.28.4, Python 3.12.7)\n",
      "Hello from the pygame community. https://www.pygame.org/contribute.html\n"
     ]
    },
    {
     "ename": "SystemExit",
     "evalue": "",
     "output_type": "error",
     "traceback": [
      "An exception has occurred, use %tb to see the full traceback.\n",
      "\u001b[1;31mSystemExit\u001b[0m\n"
     ]
    },
    {
     "name": "stderr",
     "output_type": "stream",
     "text": [
      "C:\\Users\\Sandeep T\\anaconda3\\Lib\\site-packages\\IPython\\core\\interactiveshell.py:3585: UserWarning: To exit: use 'exit', 'quit', or Ctrl-D.\n",
      "  warn(\"To exit: use 'exit', 'quit', or Ctrl-D.\", stacklevel=1)\n"
     ]
    }
   ],
   "source": [
    "import pygame\n",
    "import sys\n",
    "\n",
    "# Initialize Pygame\n",
    "pygame.init()\n",
    "\n",
    "# Screen dimensions\n",
    "WIDTH, HEIGHT = 800, 600\n",
    "screen = pygame.display.set_mode((WIDTH, HEIGHT))\n",
    "pygame.display.set_caption(\"Pong Game\")\n",
    "\n",
    "# Colors\n",
    "WHITE = (255, 255, 255)\n",
    "BLACK = (0, 0, 0)\n",
    "\n",
    "# Paddle dimensions\n",
    "PADDLE_WIDTH, PADDLE_HEIGHT = 10, 100\n",
    "\n",
    "# Ball dimensions\n",
    "BALL_SIZE = 15\n",
    "\n",
    "# Initialize paddles and ball positions\n",
    "player1_x, player1_y = 50, (HEIGHT // 2) - (PADDLE_HEIGHT // 2)\n",
    "player2_x, player2_y = WIDTH - 50 - PADDLE_WIDTH, (HEIGHT // 2) - (PADDLE_HEIGHT // 2)\n",
    "ball_x, ball_y = WIDTH // 2, HEIGHT // 2\n",
    "\n",
    "# Paddle movement\n",
    "player1_speed, player2_speed = 0, 0\n",
    "\n",
    "# Ball movement\n",
    "ball_speed_x, ball_speed_y = 5, 5\n",
    "\n",
    "# Clock\n",
    "clock = pygame.time.Clock()\n",
    "\n",
    "# Font for score\n",
    "font = pygame.font.Font(None, 36)\n",
    "\n",
    "# Scores\n",
    "score1, score2 = 0, 0\n",
    "\n",
    "def draw_objects():\n",
    "    \"\"\"Draw the paddles, ball, and scores.\"\"\"\n",
    "    screen.fill(BLACK)\n",
    "    pygame.draw.rect(screen, WHITE, (player1_x, player1_y, PADDLE_WIDTH, PADDLE_HEIGHT))\n",
    "    pygame.draw.rect(screen, WHITE, (player2_x, player2_y, PADDLE_WIDTH, PADDLE_HEIGHT))\n",
    "    pygame.draw.ellipse(screen, WHITE, (ball_x, ball_y, BALL_SIZE, BALL_SIZE))\n",
    "    pygame.draw.aaline(screen, WHITE, (WIDTH // 2, 0), (WIDTH // 2, HEIGHT))\n",
    "\n",
    "    score_text = font.render(f\"{score1}   {score2}\", True, WHITE)\n",
    "    screen.blit(score_text, (WIDTH // 2 - 50, 20))\n",
    "\n",
    "def handle_ball_movement():\n",
    "    \"\"\"Update the ball's position and handle collisions.\"\"\"\n",
    "    global ball_x, ball_y, ball_speed_x, ball_speed_y, score1, score2\n",
    "\n",
    "    # Move the ball\n",
    "    ball_x += ball_speed_x\n",
    "    ball_y += ball_speed_y\n",
    "\n",
    "    # Collision with top and bottom walls\n",
    "    if ball_y <= 0 or ball_y >= HEIGHT - BALL_SIZE:\n",
    "        ball_speed_y *= -1\n",
    "\n",
    "    # Collision with paddles\n",
    "    if (player1_x < ball_x < player1_x + PADDLE_WIDTH and\n",
    "        player1_y < ball_y + BALL_SIZE < player1_y + PADDLE_HEIGHT):\n",
    "        ball_speed_x *= -1\n",
    "\n",
    "    if (player2_x < ball_x + BALL_SIZE < player2_x + PADDLE_WIDTH and\n",
    "        player2_y < ball_y + BALL_SIZE < player2_y + PADDLE_HEIGHT):\n",
    "        ball_speed_x *= -1\n",
    "\n",
    "    # Check for scoring\n",
    "    if ball_x <= 0:\n",
    "        score2 += 1\n",
    "        reset_ball()\n",
    "    if ball_x >= WIDTH:\n",
    "        score1 += 1\n",
    "        reset_ball()\n",
    "\n",
    "def reset_ball():\n",
    "    \"\"\"Reset the ball to the center of the screen.\"\"\"\n",
    "    global ball_x, ball_y, ball_speed_x, ball_speed_y\n",
    "    ball_x, ball_y = WIDTH // 2, HEIGHT // 2\n",
    "    ball_speed_x *= -1  # Change direction of ball after a score\n",
    "    ball_speed_y *= -1\n",
    "\n",
    "def handle_paddle_movement():\n",
    "    \"\"\"Update paddle positions.\"\"\"\n",
    "    global player1_y, player2_y\n",
    "    player1_y += player1_speed\n",
    "    player2_y += player2_speed\n",
    "\n",
    "    # Keep paddles within the screen bounds\n",
    "    if player1_y < 0:\n",
    "        player1_y = 0\n",
    "    if player1_y > HEIGHT - PADDLE_HEIGHT:\n",
    "        player1_y = HEIGHT - PADDLE_HEIGHT\n",
    "\n",
    "    if player2_y < 0:\n",
    "        player2_y = 0\n",
    "    if player2_y > HEIGHT - PADDLE_HEIGHT:\n",
    "        player2_y = HEIGHT - PADDLE_HEIGHT\n",
    "\n",
    "def game_loop():\n",
    "    \"\"\"Main game loop.\"\"\"\n",
    "    global player1_speed, player2_speed\n",
    "\n",
    "    running = True\n",
    "    while running:\n",
    "        # Handle events\n",
    "        for event in pygame.event.get():\n",
    "            if event.type == pygame.QUIT:\n",
    "                running = False\n",
    "            if event.type == pygame.KEYDOWN:\n",
    "                if event.key == pygame.K_w:\n",
    "                    player1_speed = -5\n",
    "                if event.key == pygame.K_s:\n",
    "                    player1_speed = 5\n",
    "                if event.key == pygame.K_UP:\n",
    "                    player2_speed = -5\n",
    "                if event.key == pygame.K_DOWN:\n",
    "                    player2_speed = 5\n",
    "            if event.type == pygame.KEYUP:\n",
    "                if event.key in (pygame.K_w, pygame.K_s):\n",
    "                    player1_speed = 0\n",
    "                if event.key in (pygame.K_UP, pygame.K_DOWN):\n",
    "                    player2_speed = 0\n",
    "\n",
    "        # Update paddle and ball positions\n",
    "        handle_paddle_movement()\n",
    "        handle_ball_movement()\n",
    "\n",
    "        # Draw everything\n",
    "        draw_objects()\n",
    "\n",
    "        # Update the screen\n",
    "        pygame.display.flip()\n",
    "\n",
    "        # Cap the frame rate\n",
    "        clock.tick(60)\n",
    "\n",
    "    pygame.quit()\n",
    "    sys.exit()\n",
    "\n",
    "# Run the game\n",
    "game_loop()"
   ]
  },
  {
   "cell_type": "code",
   "execution_count": 4,
   "id": "7936c68e-21ef-475e-81bb-a76d3f9747e5",
   "metadata": {},
   "outputs": [
    {
     "name": "stdout",
     "output_type": "stream",
     "text": [
      "['__breakpointhook__', '__displayhook__', '__doc__', '__excepthook__', '__interactivehook__', '__loader__', '__name__', '__package__', '__spec__', '__stderr__', '__stdin__', '__stdout__', '__unraisablehook__', '_base_executable', '_clear_type_cache', '_current_exceptions', '_current_frames', '_debugmallocstats', '_enablelegacywindowsfsencoding', '_framework', '_getframe', '_getframemodulename', '_git', '_home', '_setprofileallthreads', '_settraceallthreads', '_stdlib_dir', '_vpath', '_xoptions', 'activate_stack_trampoline', 'addaudithook', 'api_version', 'argv', 'audit', 'base_exec_prefix', 'base_prefix', 'breakpointhook', 'builtin_module_names', 'byteorder', 'call_tracing', 'copyright', 'deactivate_stack_trampoline', 'displayhook', 'dllhandle', 'dont_write_bytecode', 'exc_info', 'excepthook', 'exception', 'exec_prefix', 'executable', 'exit', 'flags', 'float_info', 'float_repr_style', 'get_asyncgen_hooks', 'get_coroutine_origin_tracking_depth', 'get_int_max_str_digits', 'getallocatedblocks', 'getdefaultencoding', 'getfilesystemencodeerrors', 'getfilesystemencoding', 'getprofile', 'getrecursionlimit', 'getrefcount', 'getsizeof', 'getswitchinterval', 'gettrace', 'getunicodeinternedsize', 'getwindowsversion', 'hash_info', 'hexversion', 'implementation', 'int_info', 'intern', 'is_finalizing', 'is_stack_trampoline_active', 'last_traceback', 'last_type', 'last_value', 'maxsize', 'maxunicode', 'meta_path', 'modules', 'monitoring', 'orig_argv', 'path', 'path_hooks', 'path_importer_cache', 'platform', 'platlibdir', 'prefix', 'ps1', 'ps2', 'ps3', 'pycache_prefix', 'set_asyncgen_hooks', 'set_coroutine_origin_tracking_depth', 'set_int_max_str_digits', 'setprofile', 'setrecursionlimit', 'setswitchinterval', 'settrace', 'stderr', 'stdin', 'stdlib_module_names', 'stdout', 'thread_info', 'unraisablehook', 'version', 'version_info', 'warnoptions', 'winver']\n"
     ]
    }
   ],
   "source": [
    "print (dir(sys))"
   ]
  },
  {
   "cell_type": "code",
   "execution_count": 6,
   "id": "052b6d78-3d7d-4023-be1b-7b71229f95c7",
   "metadata": {},
   "outputs": [
    {
     "name": "stdout",
     "output_type": "stream",
     "text": [
      "['ACTIVEEVENT', 'ANYFORMAT', 'APPACTIVE', 'APPINPUTFOCUS', 'APPMOUSEFOCUS', 'APP_DIDENTERBACKGROUND', 'APP_DIDENTERFOREGROUND', 'APP_LOWMEMORY', 'APP_TERMINATING', 'APP_WILLENTERBACKGROUND', 'APP_WILLENTERFOREGROUND', 'ASYNCBLIT', 'AUDIODEVICEADDED', 'AUDIODEVICEREMOVED', 'AUDIO_ALLOW_ANY_CHANGE', 'AUDIO_ALLOW_CHANNELS_CHANGE', 'AUDIO_ALLOW_FORMAT_CHANGE', 'AUDIO_ALLOW_FREQUENCY_CHANGE', 'AUDIO_S16', 'AUDIO_S16LSB', 'AUDIO_S16MSB', 'AUDIO_S16SYS', 'AUDIO_S8', 'AUDIO_U16', 'AUDIO_U16LSB', 'AUDIO_U16MSB', 'AUDIO_U16SYS', 'AUDIO_U8', 'BIG_ENDIAN', 'BLENDMODE_ADD', 'BLENDMODE_BLEND', 'BLENDMODE_MOD', 'BLENDMODE_NONE', 'BLEND_ADD', 'BLEND_ALPHA_SDL2', 'BLEND_MAX', 'BLEND_MIN', 'BLEND_MULT', 'BLEND_PREMULTIPLIED', 'BLEND_RGBA_ADD', 'BLEND_RGBA_MAX', 'BLEND_RGBA_MIN', 'BLEND_RGBA_MULT', 'BLEND_RGBA_SUB', 'BLEND_RGB_ADD', 'BLEND_RGB_MAX', 'BLEND_RGB_MIN', 'BLEND_RGB_MULT', 'BLEND_RGB_SUB', 'BLEND_SUB', 'BUTTON_LEFT', 'BUTTON_MIDDLE', 'BUTTON_RIGHT', 'BUTTON_WHEELDOWN', 'BUTTON_WHEELUP', 'BUTTON_X1', 'BUTTON_X2', 'BufferError', 'BufferProxy', 'CLIPBOARDUPDATE', 'CONTROLLERAXISMOTION', 'CONTROLLERBUTTONDOWN', 'CONTROLLERBUTTONUP', 'CONTROLLERDEVICEADDED', 'CONTROLLERDEVICEREMAPPED', 'CONTROLLERDEVICEREMOVED', 'CONTROLLERSENSORUPDATE', 'CONTROLLERTOUCHPADDOWN', 'CONTROLLERTOUCHPADMOTION', 'CONTROLLERTOUCHPADUP', 'CONTROLLER_AXIS_INVALID', 'CONTROLLER_AXIS_LEFTX', 'CONTROLLER_AXIS_LEFTY', 'CONTROLLER_AXIS_MAX', 'CONTROLLER_AXIS_RIGHTX', 'CONTROLLER_AXIS_RIGHTY', 'CONTROLLER_AXIS_TRIGGERLEFT', 'CONTROLLER_AXIS_TRIGGERRIGHT', 'CONTROLLER_BUTTON_A', 'CONTROLLER_BUTTON_B', 'CONTROLLER_BUTTON_BACK', 'CONTROLLER_BUTTON_DPAD_DOWN', 'CONTROLLER_BUTTON_DPAD_LEFT', 'CONTROLLER_BUTTON_DPAD_RIGHT', 'CONTROLLER_BUTTON_DPAD_UP', 'CONTROLLER_BUTTON_GUIDE', 'CONTROLLER_BUTTON_INVALID', 'CONTROLLER_BUTTON_LEFTSHOULDER', 'CONTROLLER_BUTTON_LEFTSTICK', 'CONTROLLER_BUTTON_MAX', 'CONTROLLER_BUTTON_RIGHTSHOULDER', 'CONTROLLER_BUTTON_RIGHTSTICK', 'CONTROLLER_BUTTON_START', 'CONTROLLER_BUTTON_X', 'CONTROLLER_BUTTON_Y', 'Color', 'Cursor', 'DOUBLEBUF', 'DROPBEGIN', 'DROPCOMPLETE', 'DROPFILE', 'DROPTEXT', 'FINGERDOWN', 'FINGERMOTION', 'FINGERUP', 'FULLSCREEN', 'GL_ACCELERATED_VISUAL', 'GL_ACCUM_ALPHA_SIZE', 'GL_ACCUM_BLUE_SIZE', 'GL_ACCUM_GREEN_SIZE', 'GL_ACCUM_RED_SIZE', 'GL_ALPHA_SIZE', 'GL_BLUE_SIZE', 'GL_BUFFER_SIZE', 'GL_CONTEXT_DEBUG_FLAG', 'GL_CONTEXT_FLAGS', 'GL_CONTEXT_FORWARD_COMPATIBLE_FLAG', 'GL_CONTEXT_MAJOR_VERSION', 'GL_CONTEXT_MINOR_VERSION', 'GL_CONTEXT_PROFILE_COMPATIBILITY', 'GL_CONTEXT_PROFILE_CORE', 'GL_CONTEXT_PROFILE_ES', 'GL_CONTEXT_PROFILE_MASK', 'GL_CONTEXT_RELEASE_BEHAVIOR', 'GL_CONTEXT_RELEASE_BEHAVIOR_FLUSH', 'GL_CONTEXT_RELEASE_BEHAVIOR_NONE', 'GL_CONTEXT_RESET_ISOLATION_FLAG', 'GL_CONTEXT_ROBUST_ACCESS_FLAG', 'GL_DEPTH_SIZE', 'GL_DOUBLEBUFFER', 'GL_FRAMEBUFFER_SRGB_CAPABLE', 'GL_GREEN_SIZE', 'GL_MULTISAMPLEBUFFERS', 'GL_MULTISAMPLESAMPLES', 'GL_RED_SIZE', 'GL_SHARE_WITH_CURRENT_CONTEXT', 'GL_STENCIL_SIZE', 'GL_STEREO', 'GL_SWAP_CONTROL', 'HAT_CENTERED', 'HAT_DOWN', 'HAT_LEFT', 'HAT_LEFTDOWN', 'HAT_LEFTUP', 'HAT_RIGHT', 'HAT_RIGHTDOWN', 'HAT_RIGHTUP', 'HAT_UP', 'HAVE_NEWBUF', 'HIDDEN', 'HWACCEL', 'HWPALETTE', 'HWSURFACE', 'JOYAXISMOTION', 'JOYBALLMOTION', 'JOYBUTTONDOWN', 'JOYBUTTONUP', 'JOYDEVICEADDED', 'JOYDEVICEREMOVED', 'JOYHATMOTION', 'KEYDOWN', 'KEYMAPCHANGED', 'KEYUP', 'KMOD_ALT', 'KMOD_CAPS', 'KMOD_CTRL', 'KMOD_GUI', 'KMOD_LALT', 'KMOD_LCTRL', 'KMOD_LGUI', 'KMOD_LMETA', 'KMOD_LSHIFT', 'KMOD_META', 'KMOD_MODE', 'KMOD_NONE', 'KMOD_NUM', 'KMOD_RALT', 'KMOD_RCTRL', 'KMOD_RGUI', 'KMOD_RMETA', 'KMOD_RSHIFT', 'KMOD_SHIFT', 'KSCAN_0', 'KSCAN_1', 'KSCAN_2', 'KSCAN_3', 'KSCAN_4', 'KSCAN_5', 'KSCAN_6', 'KSCAN_7', 'KSCAN_8', 'KSCAN_9', 'KSCAN_A', 'KSCAN_AC_BACK', 'KSCAN_APOSTROPHE', 'KSCAN_B', 'KSCAN_BACKSLASH', 'KSCAN_BACKSPACE', 'KSCAN_BREAK', 'KSCAN_C', 'KSCAN_CAPSLOCK', 'KSCAN_CLEAR', 'KSCAN_COMMA', 'KSCAN_CURRENCYSUBUNIT', 'KSCAN_CURRENCYUNIT', 'KSCAN_D', 'KSCAN_DELETE', 'KSCAN_DOWN', 'KSCAN_E', 'KSCAN_END', 'KSCAN_EQUALS', 'KSCAN_ESCAPE', 'KSCAN_EURO', 'KSCAN_F', 'KSCAN_F1', 'KSCAN_F10', 'KSCAN_F11', 'KSCAN_F12', 'KSCAN_F13', 'KSCAN_F14', 'KSCAN_F15', 'KSCAN_F2', 'KSCAN_F3', 'KSCAN_F4', 'KSCAN_F5', 'KSCAN_F6', 'KSCAN_F7', 'KSCAN_F8', 'KSCAN_F9', 'KSCAN_G', 'KSCAN_GRAVE', 'KSCAN_H', 'KSCAN_HELP', 'KSCAN_HOME', 'KSCAN_I', 'KSCAN_INSERT', 'KSCAN_INTERNATIONAL1', 'KSCAN_INTERNATIONAL2', 'KSCAN_INTERNATIONAL3', 'KSCAN_INTERNATIONAL4', 'KSCAN_INTERNATIONAL5', 'KSCAN_INTERNATIONAL6', 'KSCAN_INTERNATIONAL7', 'KSCAN_INTERNATIONAL8', 'KSCAN_INTERNATIONAL9', 'KSCAN_J', 'KSCAN_K', 'KSCAN_KP0', 'KSCAN_KP1', 'KSCAN_KP2', 'KSCAN_KP3', 'KSCAN_KP4', 'KSCAN_KP5', 'KSCAN_KP6', 'KSCAN_KP7', 'KSCAN_KP8', 'KSCAN_KP9', 'KSCAN_KP_0', 'KSCAN_KP_1', 'KSCAN_KP_2', 'KSCAN_KP_3', 'KSCAN_KP_4', 'KSCAN_KP_5', 'KSCAN_KP_6', 'KSCAN_KP_7', 'KSCAN_KP_8', 'KSCAN_KP_9', 'KSCAN_KP_DIVIDE', 'KSCAN_KP_ENTER', 'KSCAN_KP_EQUALS', 'KSCAN_KP_MINUS', 'KSCAN_KP_MULTIPLY', 'KSCAN_KP_PERIOD', 'KSCAN_KP_PLUS', 'KSCAN_L', 'KSCAN_LALT', 'KSCAN_LANG1', 'KSCAN_LANG2', 'KSCAN_LANG3', 'KSCAN_LANG4', 'KSCAN_LANG5', 'KSCAN_LANG6', 'KSCAN_LANG7', 'KSCAN_LANG8', 'KSCAN_LANG9', 'KSCAN_LCTRL', 'KSCAN_LEFT', 'KSCAN_LEFTBRACKET', 'KSCAN_LGUI', 'KSCAN_LMETA', 'KSCAN_LSHIFT', 'KSCAN_LSUPER', 'KSCAN_M', 'KSCAN_MENU', 'KSCAN_MINUS', 'KSCAN_MODE', 'KSCAN_N', 'KSCAN_NONUSBACKSLASH', 'KSCAN_NONUSHASH', 'KSCAN_NUMLOCK', 'KSCAN_NUMLOCKCLEAR', 'KSCAN_O', 'KSCAN_P', 'KSCAN_PAGEDOWN', 'KSCAN_PAGEUP', 'KSCAN_PAUSE', 'KSCAN_PERIOD', 'KSCAN_POWER', 'KSCAN_PRINT', 'KSCAN_PRINTSCREEN', 'KSCAN_Q', 'KSCAN_R', 'KSCAN_RALT', 'KSCAN_RCTRL', 'KSCAN_RETURN', 'KSCAN_RGUI', 'KSCAN_RIGHT', 'KSCAN_RIGHTBRACKET', 'KSCAN_RMETA', 'KSCAN_RSHIFT', 'KSCAN_RSUPER', 'KSCAN_S', 'KSCAN_SCROLLLOCK', 'KSCAN_SCROLLOCK', 'KSCAN_SEMICOLON', 'KSCAN_SLASH', 'KSCAN_SPACE', 'KSCAN_SYSREQ', 'KSCAN_T', 'KSCAN_TAB', 'KSCAN_U', 'KSCAN_UNKNOWN', 'KSCAN_UP', 'KSCAN_V', 'KSCAN_W', 'KSCAN_X', 'KSCAN_Y', 'KSCAN_Z', 'K_0', 'K_1', 'K_2', 'K_3', 'K_4', 'K_5', 'K_6', 'K_7', 'K_8', 'K_9', 'K_AC_BACK', 'K_AMPERSAND', 'K_ASTERISK', 'K_AT', 'K_BACKQUOTE', 'K_BACKSLASH', 'K_BACKSPACE', 'K_BREAK', 'K_CAPSLOCK', 'K_CARET', 'K_CLEAR', 'K_COLON', 'K_COMMA', 'K_CURRENCYSUBUNIT', 'K_CURRENCYUNIT', 'K_DELETE', 'K_DOLLAR', 'K_DOWN', 'K_END', 'K_EQUALS', 'K_ESCAPE', 'K_EURO', 'K_EXCLAIM', 'K_F1', 'K_F10', 'K_F11', 'K_F12', 'K_F13', 'K_F14', 'K_F15', 'K_F2', 'K_F3', 'K_F4', 'K_F5', 'K_F6', 'K_F7', 'K_F8', 'K_F9', 'K_GREATER', 'K_HASH', 'K_HELP', 'K_HOME', 'K_INSERT', 'K_KP0', 'K_KP1', 'K_KP2', 'K_KP3', 'K_KP4', 'K_KP5', 'K_KP6', 'K_KP7', 'K_KP8', 'K_KP9', 'K_KP_0', 'K_KP_1', 'K_KP_2', 'K_KP_3', 'K_KP_4', 'K_KP_5', 'K_KP_6', 'K_KP_7', 'K_KP_8', 'K_KP_9', 'K_KP_DIVIDE', 'K_KP_ENTER', 'K_KP_EQUALS', 'K_KP_MINUS', 'K_KP_MULTIPLY', 'K_KP_PERIOD', 'K_KP_PLUS', 'K_LALT', 'K_LCTRL', 'K_LEFT', 'K_LEFTBRACKET', 'K_LEFTPAREN', 'K_LESS', 'K_LGUI', 'K_LMETA', 'K_LSHIFT', 'K_LSUPER', 'K_MENU', 'K_MINUS', 'K_MODE', 'K_NUMLOCK', 'K_NUMLOCKCLEAR', 'K_PAGEDOWN', 'K_PAGEUP', 'K_PAUSE', 'K_PERCENT', 'K_PERIOD', 'K_PLUS', 'K_POWER', 'K_PRINT', 'K_PRINTSCREEN', 'K_QUESTION', 'K_QUOTE', 'K_QUOTEDBL', 'K_RALT', 'K_RCTRL', 'K_RETURN', 'K_RGUI', 'K_RIGHT', 'K_RIGHTBRACKET', 'K_RIGHTPAREN', 'K_RMETA', 'K_RSHIFT', 'K_RSUPER', 'K_SCROLLLOCK', 'K_SCROLLOCK', 'K_SEMICOLON', 'K_SLASH', 'K_SPACE', 'K_SYSREQ', 'K_TAB', 'K_UNDERSCORE', 'K_UNKNOWN', 'K_UP', 'K_a', 'K_b', 'K_c', 'K_d', 'K_e', 'K_f', 'K_g', 'K_h', 'K_i', 'K_j', 'K_k', 'K_l', 'K_m', 'K_n', 'K_o', 'K_p', 'K_q', 'K_r', 'K_s', 'K_t', 'K_u', 'K_v', 'K_w', 'K_x', 'K_y', 'K_z', 'LIL_ENDIAN', 'LOCALECHANGED', 'MIDIIN', 'MIDIOUT', 'MOUSEBUTTONDOWN', 'MOUSEBUTTONUP', 'MOUSEMOTION', 'MOUSEWHEEL', 'MULTIGESTURE', 'Mask', 'NOEVENT', 'NOFRAME', 'NUMEVENTS', 'OPENGL', 'OPENGLBLIT', 'Overlay', 'PREALLOC', 'PixelArray', 'QUIT', 'RENDER_DEVICE_RESET', 'RENDER_TARGETS_RESET', 'RESIZABLE', 'RLEACCEL', 'RLEACCELOK', 'Rect', 'SCALED', 'SCRAP_BMP', 'SCRAP_CLIPBOARD', 'SCRAP_PBM', 'SCRAP_PPM', 'SCRAP_SELECTION', 'SCRAP_TEXT', 'SDL', 'SHOWN', 'SRCALPHA', 'SRCCOLORKEY', 'SWSURFACE', 'SYSTEM_CURSOR_ARROW', 'SYSTEM_CURSOR_CROSSHAIR', 'SYSTEM_CURSOR_HAND', 'SYSTEM_CURSOR_IBEAM', 'SYSTEM_CURSOR_NO', 'SYSTEM_CURSOR_SIZEALL', 'SYSTEM_CURSOR_SIZENESW', 'SYSTEM_CURSOR_SIZENS', 'SYSTEM_CURSOR_SIZENWSE', 'SYSTEM_CURSOR_SIZEWE', 'SYSTEM_CURSOR_WAIT', 'SYSTEM_CURSOR_WAITARROW', 'SYSWMEVENT', 'Surface', 'SurfaceType', 'TEXTEDITING', 'TEXTINPUT', 'TIMER_RESOLUTION', 'USEREVENT', 'USEREVENT_DROPFILE', 'VIDEOEXPOSE', 'VIDEORESIZE', 'Vector2', 'Vector3', 'WINDOWCLOSE', 'WINDOWDISPLAYCHANGED', 'WINDOWENTER', 'WINDOWEXPOSED', 'WINDOWFOCUSGAINED', 'WINDOWFOCUSLOST', 'WINDOWHIDDEN', 'WINDOWHITTEST', 'WINDOWICCPROFCHANGED', 'WINDOWLEAVE', 'WINDOWMAXIMIZED', 'WINDOWMINIMIZED', 'WINDOWMOVED', 'WINDOWRESIZED', 'WINDOWRESTORED', 'WINDOWSHOWN', 'WINDOWSIZECHANGED', 'WINDOWTAKEFOCUS', '__builtins__', '__cached__', '__color_constructor', '__color_reduce', '__doc__', '__file__', '__loader__', '__name__', '__package__', '__path__', '__rect_constructor', '__rect_reduce', '__spec__', '__version__', '_attribute_undefined', '_freetype', 'base', 'bufferproxy', 'color', 'colordict', 'constants', 'cursors', 'display', 'draw', 'encode_file_path', 'encode_string', 'error', 'event', 'fastevent', 'font', 'freetype', 'get_array_interface', 'get_error', 'get_init', 'get_sdl_byteorder', 'get_sdl_version', 'image', 'init', 'joystick', 'key', 'mask', 'math', 'mixer', 'mixer_music', 'mouse', 'pixelarray', 'pixelcopy', 'pkgdata', 'quit', 'rect', 'register_quit', 'rev', 'rwobject', 'scrap', 'set_error', 'sndarray', 'sprite', 'surface', 'surfarray', 'surflock', 'sysfont', 'threads', 'time', 'transform', 'ver', 'vernum', 'version']\n"
     ]
    }
   ],
   "source": [
    "print (dir(pygame))"
   ]
  }
 ],
 "metadata": {
  "kernelspec": {
   "display_name": "Python [conda env:base] *",
   "language": "python",
   "name": "conda-base-py"
  },
  "language_info": {
   "codemirror_mode": {
    "name": "ipython",
    "version": 3
   },
   "file_extension": ".py",
   "mimetype": "text/x-python",
   "name": "python",
   "nbconvert_exporter": "python",
   "pygments_lexer": "ipython3",
   "version": "3.12.7"
  }
 },
 "nbformat": 4,
 "nbformat_minor": 5
}
